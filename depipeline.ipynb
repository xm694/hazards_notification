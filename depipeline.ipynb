{
 "cells": [
  {
   "cell_type": "markdown",
   "metadata": {},
   "source": [
    "# Data Extraction \n",
    "## Getting incident, majorevent, roadwork from NSW transport live data via their api"
   ]
  },
  {
   "cell_type": "code",
   "execution_count": null,
   "metadata": {},
   "outputs": [],
   "source": [
    "import requests\n",
    "import os\n",
    "import dotenv\n",
    "import datetime\n",
    "\n",
    "dotenv.load_dotenv()\n",
    "\n",
    "base_url = \"https://api.transport.nsw.gov.au/v1/live/hazards/{}/open\"\n",
    "\n",
    "auth_token = \"apikey \" + os.environ.get(\"APIKEY\")\n",
    "headers = {\n",
    "    \"content-type\": \"application/json\",\n",
    "    \"Authorization\": auth_token\n",
    "}\n",
    "\n",
    "ts = datetime.datetime.now().timestamp()\n",
    "\n",
    "events = [\"incident\", \"majorevent\", \"roadwork\"]\n",
    "responses = {}\n",
    "file_name = \"hazards_{}_{}.json\"\n",
    "\n",
    "for event in events:\n",
    "    response = requests.get(base_url.format(event), headers=headers)\n",
    "    responses[event] = response.text\n",
    "    #print (responses[event])\n",
    "\n",
    "    with open(file_name.format(event, ts),\"w\") as file:\n",
    "        file.write(responses[event])"
   ]
  }
 ],
 "metadata": {
  "kernelspec": {
   "display_name": "depipeline",
   "language": "python",
   "name": "python3"
  },
  "language_info": {
   "codemirror_mode": {
    "name": "ipython",
    "version": 3
   },
   "file_extension": ".py",
   "mimetype": "text/x-python",
   "name": "python",
   "nbconvert_exporter": "python",
   "pygments_lexer": "ipython3",
   "version": "3.12.2"
  }
 },
 "nbformat": 4,
 "nbformat_minor": 2
}
